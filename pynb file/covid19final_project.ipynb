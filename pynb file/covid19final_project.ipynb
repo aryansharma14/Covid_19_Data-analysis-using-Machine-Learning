{
  "nbformat": 4,
  "nbformat_minor": 0,
  "metadata": {
    "colab": {
      "name": "covid19final project.ipynb",
      "provenance": [],
      "collapsed_sections": []
    },
    "kernelspec": {
      "name": "python3",
      "display_name": "Python 3"
    },
    "language_info": {
      "name": "python"
    }
  },
  "cells": [
    {
      "cell_type": "code",
      "execution_count": null,
      "metadata": {
        "colab": {
          "base_uri": "https://localhost:8080/"
        },
        "id": "QfGFlx9gsLa6",
        "outputId": "735fc6ea-c3b1-4089-9af7-3b8f53261a65"
      },
      "outputs": [
        {
          "output_type": "stream",
          "name": "stderr",
          "text": [
            "/usr/local/lib/python3.7/dist-packages/statsmodels/tools/_testing.py:19: FutureWarning: pandas.util.testing is deprecated. Use the functions in the public API at pandas.testing instead.\n",
            "  import pandas.util.testing as tm\n"
          ]
        }
      ],
      "source": [
        "import pandas as pd\n",
        "import matplotlib.pyplot as plt\n",
        "import seaborn as sns\n",
        "import numpy as np\n",
        "import datetime as dt\n",
        "from datetime import timedelta\n",
        "from sklearn.linear_model import LinearRegression\n",
        "from sklearn.svm import SVR\n",
        "from statsmodels.tsa.api import Holt"
      ]
    },
    {
      "cell_type": "code",
      "source": [
        "covid = pd.read_csv(\"covid_19_data.csv\")\n",
        "covid.head(10)"
      ],
      "metadata": {
        "colab": {
          "base_uri": "https://localhost:8080/",
          "height": 363
        },
        "id": "n2uQM851szmS",
        "outputId": "de373caf-901a-4a3f-e9a7-7e45413c4471"
      },
      "execution_count": null,
      "outputs": [
        {
          "output_type": "execute_result",
          "data": {
            "text/html": [
              "\n",
              "  <div id=\"df-22644e3c-1832-46a4-9996-0c7b7e528934\">\n",
              "    <div class=\"colab-df-container\">\n",
              "      <div>\n",
              "<style scoped>\n",
              "    .dataframe tbody tr th:only-of-type {\n",
              "        vertical-align: middle;\n",
              "    }\n",
              "\n",
              "    .dataframe tbody tr th {\n",
              "        vertical-align: top;\n",
              "    }\n",
              "\n",
              "    .dataframe thead th {\n",
              "        text-align: right;\n",
              "    }\n",
              "</style>\n",
              "<table border=\"1\" class=\"dataframe\">\n",
              "  <thead>\n",
              "    <tr style=\"text-align: right;\">\n",
              "      <th></th>\n",
              "      <th>SNo</th>\n",
              "      <th>ObservationDate</th>\n",
              "      <th>Province/State</th>\n",
              "      <th>Country/Region</th>\n",
              "      <th>Last Update</th>\n",
              "      <th>Confirmed</th>\n",
              "      <th>Deaths</th>\n",
              "      <th>Recovered</th>\n",
              "    </tr>\n",
              "  </thead>\n",
              "  <tbody>\n",
              "    <tr>\n",
              "      <th>0</th>\n",
              "      <td>1</td>\n",
              "      <td>01/22/2020</td>\n",
              "      <td>Anhui</td>\n",
              "      <td>Mainland China</td>\n",
              "      <td>1/22/2020 17:00</td>\n",
              "      <td>1.0</td>\n",
              "      <td>0.0</td>\n",
              "      <td>0.0</td>\n",
              "    </tr>\n",
              "    <tr>\n",
              "      <th>1</th>\n",
              "      <td>2</td>\n",
              "      <td>01/22/2020</td>\n",
              "      <td>Beijing</td>\n",
              "      <td>Mainland China</td>\n",
              "      <td>1/22/2020 17:00</td>\n",
              "      <td>14.0</td>\n",
              "      <td>0.0</td>\n",
              "      <td>0.0</td>\n",
              "    </tr>\n",
              "    <tr>\n",
              "      <th>2</th>\n",
              "      <td>3</td>\n",
              "      <td>01/22/2020</td>\n",
              "      <td>Chongqing</td>\n",
              "      <td>Mainland China</td>\n",
              "      <td>1/22/2020 17:00</td>\n",
              "      <td>6.0</td>\n",
              "      <td>0.0</td>\n",
              "      <td>0.0</td>\n",
              "    </tr>\n",
              "    <tr>\n",
              "      <th>3</th>\n",
              "      <td>4</td>\n",
              "      <td>01/22/2020</td>\n",
              "      <td>Fujian</td>\n",
              "      <td>Mainland China</td>\n",
              "      <td>1/22/2020 17:00</td>\n",
              "      <td>1.0</td>\n",
              "      <td>0.0</td>\n",
              "      <td>0.0</td>\n",
              "    </tr>\n",
              "    <tr>\n",
              "      <th>4</th>\n",
              "      <td>5</td>\n",
              "      <td>01/22/2020</td>\n",
              "      <td>Gansu</td>\n",
              "      <td>Mainland China</td>\n",
              "      <td>1/22/2020 17:00</td>\n",
              "      <td>0.0</td>\n",
              "      <td>0.0</td>\n",
              "      <td>0.0</td>\n",
              "    </tr>\n",
              "    <tr>\n",
              "      <th>5</th>\n",
              "      <td>6</td>\n",
              "      <td>01/22/2020</td>\n",
              "      <td>Guangdong</td>\n",
              "      <td>Mainland China</td>\n",
              "      <td>1/22/2020 17:00</td>\n",
              "      <td>26.0</td>\n",
              "      <td>0.0</td>\n",
              "      <td>0.0</td>\n",
              "    </tr>\n",
              "    <tr>\n",
              "      <th>6</th>\n",
              "      <td>7</td>\n",
              "      <td>01/22/2020</td>\n",
              "      <td>Guangxi</td>\n",
              "      <td>Mainland China</td>\n",
              "      <td>1/22/2020 17:00</td>\n",
              "      <td>2.0</td>\n",
              "      <td>0.0</td>\n",
              "      <td>0.0</td>\n",
              "    </tr>\n",
              "    <tr>\n",
              "      <th>7</th>\n",
              "      <td>8</td>\n",
              "      <td>01/22/2020</td>\n",
              "      <td>Guizhou</td>\n",
              "      <td>Mainland China</td>\n",
              "      <td>1/22/2020 17:00</td>\n",
              "      <td>1.0</td>\n",
              "      <td>0.0</td>\n",
              "      <td>0.0</td>\n",
              "    </tr>\n",
              "    <tr>\n",
              "      <th>8</th>\n",
              "      <td>9</td>\n",
              "      <td>01/22/2020</td>\n",
              "      <td>Hainan</td>\n",
              "      <td>Mainland China</td>\n",
              "      <td>1/22/2020 17:00</td>\n",
              "      <td>4.0</td>\n",
              "      <td>0.0</td>\n",
              "      <td>0.0</td>\n",
              "    </tr>\n",
              "    <tr>\n",
              "      <th>9</th>\n",
              "      <td>10</td>\n",
              "      <td>01/22/2020</td>\n",
              "      <td>Hebei</td>\n",
              "      <td>Mainland China</td>\n",
              "      <td>1/22/2020 17:00</td>\n",
              "      <td>1.0</td>\n",
              "      <td>0.0</td>\n",
              "      <td>0.0</td>\n",
              "    </tr>\n",
              "  </tbody>\n",
              "</table>\n",
              "</div>\n",
              "      <button class=\"colab-df-convert\" onclick=\"convertToInteractive('df-22644e3c-1832-46a4-9996-0c7b7e528934')\"\n",
              "              title=\"Convert this dataframe to an interactive table.\"\n",
              "              style=\"display:none;\">\n",
              "        \n",
              "  <svg xmlns=\"http://www.w3.org/2000/svg\" height=\"24px\"viewBox=\"0 0 24 24\"\n",
              "       width=\"24px\">\n",
              "    <path d=\"M0 0h24v24H0V0z\" fill=\"none\"/>\n",
              "    <path d=\"M18.56 5.44l.94 2.06.94-2.06 2.06-.94-2.06-.94-.94-2.06-.94 2.06-2.06.94zm-11 1L8.5 8.5l.94-2.06 2.06-.94-2.06-.94L8.5 2.5l-.94 2.06-2.06.94zm10 10l.94 2.06.94-2.06 2.06-.94-2.06-.94-.94-2.06-.94 2.06-2.06.94z\"/><path d=\"M17.41 7.96l-1.37-1.37c-.4-.4-.92-.59-1.43-.59-.52 0-1.04.2-1.43.59L10.3 9.45l-7.72 7.72c-.78.78-.78 2.05 0 2.83L4 21.41c.39.39.9.59 1.41.59.51 0 1.02-.2 1.41-.59l7.78-7.78 2.81-2.81c.8-.78.8-2.07 0-2.86zM5.41 20L4 18.59l7.72-7.72 1.47 1.35L5.41 20z\"/>\n",
              "  </svg>\n",
              "      </button>\n",
              "      \n",
              "  <style>\n",
              "    .colab-df-container {\n",
              "      display:flex;\n",
              "      flex-wrap:wrap;\n",
              "      gap: 12px;\n",
              "    }\n",
              "\n",
              "    .colab-df-convert {\n",
              "      background-color: #E8F0FE;\n",
              "      border: none;\n",
              "      border-radius: 50%;\n",
              "      cursor: pointer;\n",
              "      display: none;\n",
              "      fill: #1967D2;\n",
              "      height: 32px;\n",
              "      padding: 0 0 0 0;\n",
              "      width: 32px;\n",
              "    }\n",
              "\n",
              "    .colab-df-convert:hover {\n",
              "      background-color: #E2EBFA;\n",
              "      box-shadow: 0px 1px 2px rgba(60, 64, 67, 0.3), 0px 1px 3px 1px rgba(60, 64, 67, 0.15);\n",
              "      fill: #174EA6;\n",
              "    }\n",
              "\n",
              "    [theme=dark] .colab-df-convert {\n",
              "      background-color: #3B4455;\n",
              "      fill: #D2E3FC;\n",
              "    }\n",
              "\n",
              "    [theme=dark] .colab-df-convert:hover {\n",
              "      background-color: #434B5C;\n",
              "      box-shadow: 0px 1px 3px 1px rgba(0, 0, 0, 0.15);\n",
              "      filter: drop-shadow(0px 1px 2px rgba(0, 0, 0, 0.3));\n",
              "      fill: #FFFFFF;\n",
              "    }\n",
              "  </style>\n",
              "\n",
              "      <script>\n",
              "        const buttonEl =\n",
              "          document.querySelector('#df-22644e3c-1832-46a4-9996-0c7b7e528934 button.colab-df-convert');\n",
              "        buttonEl.style.display =\n",
              "          google.colab.kernel.accessAllowed ? 'block' : 'none';\n",
              "\n",
              "        async function convertToInteractive(key) {\n",
              "          const element = document.querySelector('#df-22644e3c-1832-46a4-9996-0c7b7e528934');\n",
              "          const dataTable =\n",
              "            await google.colab.kernel.invokeFunction('convertToInteractive',\n",
              "                                                     [key], {});\n",
              "          if (!dataTable) return;\n",
              "\n",
              "          const docLinkHtml = 'Like what you see? Visit the ' +\n",
              "            '<a target=\"_blank\" href=https://colab.research.google.com/notebooks/data_table.ipynb>data table notebook</a>'\n",
              "            + ' to learn more about interactive tables.';\n",
              "          element.innerHTML = '';\n",
              "          dataTable['output_type'] = 'display_data';\n",
              "          await google.colab.output.renderOutput(dataTable, element);\n",
              "          const docLink = document.createElement('div');\n",
              "          docLink.innerHTML = docLinkHtml;\n",
              "          element.appendChild(docLink);\n",
              "        }\n",
              "      </script>\n",
              "    </div>\n",
              "  </div>\n",
              "  "
            ],
            "text/plain": [
              "   SNo ObservationDate Province/State  ... Confirmed Deaths  Recovered\n",
              "0    1      01/22/2020          Anhui  ...       1.0    0.0        0.0\n",
              "1    2      01/22/2020        Beijing  ...      14.0    0.0        0.0\n",
              "2    3      01/22/2020      Chongqing  ...       6.0    0.0        0.0\n",
              "3    4      01/22/2020         Fujian  ...       1.0    0.0        0.0\n",
              "4    5      01/22/2020          Gansu  ...       0.0    0.0        0.0\n",
              "5    6      01/22/2020      Guangdong  ...      26.0    0.0        0.0\n",
              "6    7      01/22/2020        Guangxi  ...       2.0    0.0        0.0\n",
              "7    8      01/22/2020        Guizhou  ...       1.0    0.0        0.0\n",
              "8    9      01/22/2020         Hainan  ...       4.0    0.0        0.0\n",
              "9   10      01/22/2020          Hebei  ...       1.0    0.0        0.0\n",
              "\n",
              "[10 rows x 8 columns]"
            ]
          },
          "metadata": {},
          "execution_count": 2
        }
      ]
    },
    {
      "cell_type": "code",
      "source": [
        "covid.describe()"
      ],
      "metadata": {
        "colab": {
          "base_uri": "https://localhost:8080/",
          "height": 300
        },
        "id": "qt5LJhOvzErI",
        "outputId": "b8873793-5773-4b81-fd54-488aa00b55e9"
      },
      "execution_count": null,
      "outputs": [
        {
          "output_type": "execute_result",
          "data": {
            "text/html": [
              "\n",
              "  <div id=\"df-0058a2a8-597f-4101-a490-0fee269d2561\">\n",
              "    <div class=\"colab-df-container\">\n",
              "      <div>\n",
              "<style scoped>\n",
              "    .dataframe tbody tr th:only-of-type {\n",
              "        vertical-align: middle;\n",
              "    }\n",
              "\n",
              "    .dataframe tbody tr th {\n",
              "        vertical-align: top;\n",
              "    }\n",
              "\n",
              "    .dataframe thead th {\n",
              "        text-align: right;\n",
              "    }\n",
              "</style>\n",
              "<table border=\"1\" class=\"dataframe\">\n",
              "  <thead>\n",
              "    <tr style=\"text-align: right;\">\n",
              "      <th></th>\n",
              "      <th>Confirmed</th>\n",
              "      <th>Deaths</th>\n",
              "      <th>Recovered</th>\n",
              "    </tr>\n",
              "  </thead>\n",
              "  <tbody>\n",
              "    <tr>\n",
              "      <th>count</th>\n",
              "      <td>18327</td>\n",
              "      <td>18327</td>\n",
              "      <td>18327</td>\n",
              "    </tr>\n",
              "    <tr>\n",
              "      <th>mean</th>\n",
              "      <td>3030</td>\n",
              "      <td>181</td>\n",
              "      <td>765</td>\n",
              "    </tr>\n",
              "    <tr>\n",
              "      <th>std</th>\n",
              "      <td>15129</td>\n",
              "      <td>1362</td>\n",
              "      <td>5619</td>\n",
              "    </tr>\n",
              "    <tr>\n",
              "      <th>min</th>\n",
              "      <td>0</td>\n",
              "      <td>0</td>\n",
              "      <td>0</td>\n",
              "    </tr>\n",
              "    <tr>\n",
              "      <th>25%</th>\n",
              "      <td>9</td>\n",
              "      <td>0</td>\n",
              "      <td>0</td>\n",
              "    </tr>\n",
              "    <tr>\n",
              "      <th>50%</th>\n",
              "      <td>101</td>\n",
              "      <td>1</td>\n",
              "      <td>2</td>\n",
              "    </tr>\n",
              "    <tr>\n",
              "      <th>75%</th>\n",
              "      <td>674</td>\n",
              "      <td>8</td>\n",
              "      <td>71</td>\n",
              "    </tr>\n",
              "    <tr>\n",
              "      <th>max</th>\n",
              "      <td>271590</td>\n",
              "      <td>25969</td>\n",
              "      <td>109800</td>\n",
              "    </tr>\n",
              "  </tbody>\n",
              "</table>\n",
              "</div>\n",
              "      <button class=\"colab-df-convert\" onclick=\"convertToInteractive('df-0058a2a8-597f-4101-a490-0fee269d2561')\"\n",
              "              title=\"Convert this dataframe to an interactive table.\"\n",
              "              style=\"display:none;\">\n",
              "        \n",
              "  <svg xmlns=\"http://www.w3.org/2000/svg\" height=\"24px\"viewBox=\"0 0 24 24\"\n",
              "       width=\"24px\">\n",
              "    <path d=\"M0 0h24v24H0V0z\" fill=\"none\"/>\n",
              "    <path d=\"M18.56 5.44l.94 2.06.94-2.06 2.06-.94-2.06-.94-.94-2.06-.94 2.06-2.06.94zm-11 1L8.5 8.5l.94-2.06 2.06-.94-2.06-.94L8.5 2.5l-.94 2.06-2.06.94zm10 10l.94 2.06.94-2.06 2.06-.94-2.06-.94-.94-2.06-.94 2.06-2.06.94z\"/><path d=\"M17.41 7.96l-1.37-1.37c-.4-.4-.92-.59-1.43-.59-.52 0-1.04.2-1.43.59L10.3 9.45l-7.72 7.72c-.78.78-.78 2.05 0 2.83L4 21.41c.39.39.9.59 1.41.59.51 0 1.02-.2 1.41-.59l7.78-7.78 2.81-2.81c.8-.78.8-2.07 0-2.86zM5.41 20L4 18.59l7.72-7.72 1.47 1.35L5.41 20z\"/>\n",
              "  </svg>\n",
              "      </button>\n",
              "      \n",
              "  <style>\n",
              "    .colab-df-container {\n",
              "      display:flex;\n",
              "      flex-wrap:wrap;\n",
              "      gap: 12px;\n",
              "    }\n",
              "\n",
              "    .colab-df-convert {\n",
              "      background-color: #E8F0FE;\n",
              "      border: none;\n",
              "      border-radius: 50%;\n",
              "      cursor: pointer;\n",
              "      display: none;\n",
              "      fill: #1967D2;\n",
              "      height: 32px;\n",
              "      padding: 0 0 0 0;\n",
              "      width: 32px;\n",
              "    }\n",
              "\n",
              "    .colab-df-convert:hover {\n",
              "      background-color: #E2EBFA;\n",
              "      box-shadow: 0px 1px 2px rgba(60, 64, 67, 0.3), 0px 1px 3px 1px rgba(60, 64, 67, 0.15);\n",
              "      fill: #174EA6;\n",
              "    }\n",
              "\n",
              "    [theme=dark] .colab-df-convert {\n",
              "      background-color: #3B4455;\n",
              "      fill: #D2E3FC;\n",
              "    }\n",
              "\n",
              "    [theme=dark] .colab-df-convert:hover {\n",
              "      background-color: #434B5C;\n",
              "      box-shadow: 0px 1px 3px 1px rgba(0, 0, 0, 0.15);\n",
              "      filter: drop-shadow(0px 1px 2px rgba(0, 0, 0, 0.3));\n",
              "      fill: #FFFFFF;\n",
              "    }\n",
              "  </style>\n",
              "\n",
              "      <script>\n",
              "        const buttonEl =\n",
              "          document.querySelector('#df-0058a2a8-597f-4101-a490-0fee269d2561 button.colab-df-convert');\n",
              "        buttonEl.style.display =\n",
              "          google.colab.kernel.accessAllowed ? 'block' : 'none';\n",
              "\n",
              "        async function convertToInteractive(key) {\n",
              "          const element = document.querySelector('#df-0058a2a8-597f-4101-a490-0fee269d2561');\n",
              "          const dataTable =\n",
              "            await google.colab.kernel.invokeFunction('convertToInteractive',\n",
              "                                                     [key], {});\n",
              "          if (!dataTable) return;\n",
              "\n",
              "          const docLinkHtml = 'Like what you see? Visit the ' +\n",
              "            '<a target=\"_blank\" href=https://colab.research.google.com/notebooks/data_table.ipynb>data table notebook</a>'\n",
              "            + ' to learn more about interactive tables.';\n",
              "          element.innerHTML = '';\n",
              "          dataTable['output_type'] = 'display_data';\n",
              "          await google.colab.output.renderOutput(dataTable, element);\n",
              "          const docLink = document.createElement('div');\n",
              "          docLink.innerHTML = docLinkHtml;\n",
              "          element.appendChild(docLink);\n",
              "        }\n",
              "      </script>\n",
              "    </div>\n",
              "  </div>\n",
              "  "
            ],
            "text/plain": [
              "       Confirmed  Deaths  Recovered\n",
              "count      18327   18327      18327\n",
              "mean        3030     181        765\n",
              "std        15129    1362       5619\n",
              "min            0       0          0\n",
              "25%            9       0          0\n",
              "50%          101       1          2\n",
              "75%          674       8         71\n",
              "max       271590   25969     109800"
            ]
          },
          "metadata": {},
          "execution_count": 48
        }
      ]
    },
    {
      "cell_type": "code",
      "source": [
        "print(\"Size/Shape of the dataset\",covid.shape)\n",
        "print(\"Checking for null values\",covid.isnull().sum())\n",
        "print(\"Checking Data-type\",covid.dtypes)"
      ],
      "metadata": {
        "colab": {
          "base_uri": "https://localhost:8080/"
        },
        "id": "uUfH0MmVtEsM",
        "outputId": "c1691bfc-b5df-4140-e995-b194892c0eca"
      },
      "execution_count": null,
      "outputs": [
        {
          "output_type": "stream",
          "name": "stdout",
          "text": [
            "Size/Shape of the dataset (18327, 8)\n",
            "Checking for null values SNo                   0\n",
            "ObservationDate       0\n",
            "Province/State     9277\n",
            "Country/Region        0\n",
            "Last Update           0\n",
            "Confirmed             0\n",
            "Deaths                0\n",
            "Recovered             0\n",
            "dtype: int64\n",
            "Checking Data-type SNo                  int64\n",
            "ObservationDate     object\n",
            "Province/State      object\n",
            "Country/Region      object\n",
            "Last Update         object\n",
            "Confirmed          float64\n",
            "Deaths             float64\n",
            "Recovered          float64\n",
            "dtype: object\n"
          ]
        }
      ]
    },
    {
      "cell_type": "code",
      "source": [
        "#Dropping the column\n",
        "covid.drop([\"SNo\"],1,inplace=True)"
      ],
      "metadata": {
        "id": "G96dfBzytM5T"
      },
      "execution_count": null,
      "outputs": []
    },
    {
      "cell_type": "code",
      "source": [
        "covid.isnull().sum()"
      ],
      "metadata": {
        "colab": {
          "base_uri": "https://localhost:8080/"
        },
        "id": "1o_t7gabtQg-",
        "outputId": "25f2a040-fd5f-40cc-d8e3-fe97d8662f62"
      },
      "execution_count": null,
      "outputs": [
        {
          "output_type": "execute_result",
          "data": {
            "text/plain": [
              "ObservationDate       0\n",
              "Province/State     9277\n",
              "Country/Region        0\n",
              "Last Update           0\n",
              "Confirmed             0\n",
              "Deaths                0\n",
              "Recovered             0\n",
              "dtype: int64"
            ]
          },
          "metadata": {},
          "execution_count": 5
        }
      ]
    },
    {
      "cell_type": "code",
      "source": [
        "covid[\"ObservationDate\"] = pd.to_datetime(covid[\"ObservationDate\"])"
      ],
      "metadata": {
        "id": "GKVXVDAQtS_q"
      },
      "execution_count": null,
      "outputs": []
    },
    {
      "cell_type": "code",
      "source": [
        "covid.tail()"
      ],
      "metadata": {
        "colab": {
          "base_uri": "https://localhost:8080/",
          "height": 206
        },
        "id": "09_WttkG93_X",
        "outputId": "e06e5fd9-c185-45dc-e33e-018bb088409a"
      },
      "execution_count": null,
      "outputs": [
        {
          "output_type": "execute_result",
          "data": {
            "text/html": [
              "\n",
              "  <div id=\"df-9eea0f68-3493-47ce-9e31-cbfe9bf49592\">\n",
              "    <div class=\"colab-df-container\">\n",
              "      <div>\n",
              "<style scoped>\n",
              "    .dataframe tbody tr th:only-of-type {\n",
              "        vertical-align: middle;\n",
              "    }\n",
              "\n",
              "    .dataframe tbody tr th {\n",
              "        vertical-align: top;\n",
              "    }\n",
              "\n",
              "    .dataframe thead th {\n",
              "        text-align: right;\n",
              "    }\n",
              "</style>\n",
              "<table border=\"1\" class=\"dataframe\">\n",
              "  <thead>\n",
              "    <tr style=\"text-align: right;\">\n",
              "      <th></th>\n",
              "      <th>ObservationDate</th>\n",
              "      <th>Province/State</th>\n",
              "      <th>Country/Region</th>\n",
              "      <th>Last Update</th>\n",
              "      <th>Confirmed</th>\n",
              "      <th>Deaths</th>\n",
              "      <th>Recovered</th>\n",
              "    </tr>\n",
              "  </thead>\n",
              "  <tbody>\n",
              "    <tr>\n",
              "      <th>18322</th>\n",
              "      <td>2020-04-24</td>\n",
              "      <td>Wyoming</td>\n",
              "      <td>US</td>\n",
              "      <td>2020-04-25 06:31:19</td>\n",
              "      <td>473</td>\n",
              "      <td>7</td>\n",
              "      <td>0</td>\n",
              "    </tr>\n",
              "    <tr>\n",
              "      <th>18323</th>\n",
              "      <td>2020-04-24</td>\n",
              "      <td>Xinjiang</td>\n",
              "      <td>Mainland China</td>\n",
              "      <td>2020-04-25 06:31:19</td>\n",
              "      <td>76</td>\n",
              "      <td>3</td>\n",
              "      <td>73</td>\n",
              "    </tr>\n",
              "    <tr>\n",
              "      <th>18324</th>\n",
              "      <td>2020-04-24</td>\n",
              "      <td>Yukon</td>\n",
              "      <td>Canada</td>\n",
              "      <td>2020-04-25 06:31:19</td>\n",
              "      <td>11</td>\n",
              "      <td>0</td>\n",
              "      <td>0</td>\n",
              "    </tr>\n",
              "    <tr>\n",
              "      <th>18325</th>\n",
              "      <td>2020-04-24</td>\n",
              "      <td>Yunnan</td>\n",
              "      <td>Mainland China</td>\n",
              "      <td>2020-04-25 06:31:19</td>\n",
              "      <td>185</td>\n",
              "      <td>2</td>\n",
              "      <td>180</td>\n",
              "    </tr>\n",
              "    <tr>\n",
              "      <th>18326</th>\n",
              "      <td>2020-04-24</td>\n",
              "      <td>Zhejiang</td>\n",
              "      <td>Mainland China</td>\n",
              "      <td>2020-04-25 06:31:19</td>\n",
              "      <td>1268</td>\n",
              "      <td>1</td>\n",
              "      <td>1256</td>\n",
              "    </tr>\n",
              "  </tbody>\n",
              "</table>\n",
              "</div>\n",
              "      <button class=\"colab-df-convert\" onclick=\"convertToInteractive('df-9eea0f68-3493-47ce-9e31-cbfe9bf49592')\"\n",
              "              title=\"Convert this dataframe to an interactive table.\"\n",
              "              style=\"display:none;\">\n",
              "        \n",
              "  <svg xmlns=\"http://www.w3.org/2000/svg\" height=\"24px\"viewBox=\"0 0 24 24\"\n",
              "       width=\"24px\">\n",
              "    <path d=\"M0 0h24v24H0V0z\" fill=\"none\"/>\n",
              "    <path d=\"M18.56 5.44l.94 2.06.94-2.06 2.06-.94-2.06-.94-.94-2.06-.94 2.06-2.06.94zm-11 1L8.5 8.5l.94-2.06 2.06-.94-2.06-.94L8.5 2.5l-.94 2.06-2.06.94zm10 10l.94 2.06.94-2.06 2.06-.94-2.06-.94-.94-2.06-.94 2.06-2.06.94z\"/><path d=\"M17.41 7.96l-1.37-1.37c-.4-.4-.92-.59-1.43-.59-.52 0-1.04.2-1.43.59L10.3 9.45l-7.72 7.72c-.78.78-.78 2.05 0 2.83L4 21.41c.39.39.9.59 1.41.59.51 0 1.02-.2 1.41-.59l7.78-7.78 2.81-2.81c.8-.78.8-2.07 0-2.86zM5.41 20L4 18.59l7.72-7.72 1.47 1.35L5.41 20z\"/>\n",
              "  </svg>\n",
              "      </button>\n",
              "      \n",
              "  <style>\n",
              "    .colab-df-container {\n",
              "      display:flex;\n",
              "      flex-wrap:wrap;\n",
              "      gap: 12px;\n",
              "    }\n",
              "\n",
              "    .colab-df-convert {\n",
              "      background-color: #E8F0FE;\n",
              "      border: none;\n",
              "      border-radius: 50%;\n",
              "      cursor: pointer;\n",
              "      display: none;\n",
              "      fill: #1967D2;\n",
              "      height: 32px;\n",
              "      padding: 0 0 0 0;\n",
              "      width: 32px;\n",
              "    }\n",
              "\n",
              "    .colab-df-convert:hover {\n",
              "      background-color: #E2EBFA;\n",
              "      box-shadow: 0px 1px 2px rgba(60, 64, 67, 0.3), 0px 1px 3px 1px rgba(60, 64, 67, 0.15);\n",
              "      fill: #174EA6;\n",
              "    }\n",
              "\n",
              "    [theme=dark] .colab-df-convert {\n",
              "      background-color: #3B4455;\n",
              "      fill: #D2E3FC;\n",
              "    }\n",
              "\n",
              "    [theme=dark] .colab-df-convert:hover {\n",
              "      background-color: #434B5C;\n",
              "      box-shadow: 0px 1px 3px 1px rgba(0, 0, 0, 0.15);\n",
              "      filter: drop-shadow(0px 1px 2px rgba(0, 0, 0, 0.3));\n",
              "      fill: #FFFFFF;\n",
              "    }\n",
              "  </style>\n",
              "\n",
              "      <script>\n",
              "        const buttonEl =\n",
              "          document.querySelector('#df-9eea0f68-3493-47ce-9e31-cbfe9bf49592 button.colab-df-convert');\n",
              "        buttonEl.style.display =\n",
              "          google.colab.kernel.accessAllowed ? 'block' : 'none';\n",
              "\n",
              "        async function convertToInteractive(key) {\n",
              "          const element = document.querySelector('#df-9eea0f68-3493-47ce-9e31-cbfe9bf49592');\n",
              "          const dataTable =\n",
              "            await google.colab.kernel.invokeFunction('convertToInteractive',\n",
              "                                                     [key], {});\n",
              "          if (!dataTable) return;\n",
              "\n",
              "          const docLinkHtml = 'Like what you see? Visit the ' +\n",
              "            '<a target=\"_blank\" href=https://colab.research.google.com/notebooks/data_table.ipynb>data table notebook</a>'\n",
              "            + ' to learn more about interactive tables.';\n",
              "          element.innerHTML = '';\n",
              "          dataTable['output_type'] = 'display_data';\n",
              "          await google.colab.output.renderOutput(dataTable, element);\n",
              "          const docLink = document.createElement('div');\n",
              "          docLink.innerHTML = docLinkHtml;\n",
              "          element.appendChild(docLink);\n",
              "        }\n",
              "      </script>\n",
              "    </div>\n",
              "  </div>\n",
              "  "
            ],
            "text/plain": [
              "      ObservationDate Province/State  ... Deaths Recovered\n",
              "18322      2020-04-24        Wyoming  ...      7         0\n",
              "18323      2020-04-24       Xinjiang  ...      3        73\n",
              "18324      2020-04-24          Yukon  ...      0         0\n",
              "18325      2020-04-24         Yunnan  ...      2       180\n",
              "18326      2020-04-24       Zhejiang  ...      1      1256\n",
              "\n",
              "[5 rows x 7 columns]"
            ]
          },
          "metadata": {},
          "execution_count": 61
        }
      ]
    },
    {
      "cell_type": "code",
      "source": [
        "#Grouping differnent types of cases as per the date\n",
        "datewise = covid.groupby([\"ObservationDate\"]).agg({\"Confirmed\":\"sum\",\"Recovered\":\"sum\",\"Deaths\":\"sum\"})"
      ],
      "metadata": {
        "id": "-HchMlQTtWiu"
      },
      "execution_count": null,
      "outputs": []
    },
    {
      "cell_type": "code",
      "source": [
        "print(\"Basic Information\")\n",
        "print(\"Total number of Confirmed cases around the world\",datewise[\"Confirmed\"].iloc[-1])\n",
        "print(\"Total number of Recovered cases around the world\",datewise[\"Recovered\"].iloc[-1])\n",
        "print(\"Total number of Death cases around the world\",datewise[\"Deaths\"].iloc[-1])\n",
        "print(\"Total number of Active cases around the world\",(datewise[\"Confirmed\"].iloc[-1]-datewise[\"Recovered\"].iloc[-1]-datewise[\"Deaths\"].iloc[-1]))\n",
        "print(\"Total number of Closed cases around the world\",(datewise[\"Recovered\"].iloc[-1]+datewise[\"Deaths\"].iloc[-1]))"
      ],
      "metadata": {
        "colab": {
          "base_uri": "https://localhost:8080/"
        },
        "id": "zp57BGRqtY88",
        "outputId": "c0065a86-c474-4782-c44b-54d83468e028"
      },
      "execution_count": null,
      "outputs": [
        {
          "output_type": "stream",
          "name": "stdout",
          "text": [
            "Basic Information\n",
            "Total number of Confirmed cases around the world 2811193.0\n",
            "Total number of Recovered cases around the world 793601.0\n",
            "Total number of Death cases around the world 197159.0\n",
            "Total number of Active cases around the world 1820433.0\n",
            "Total number of Closed cases around the world 990760.0\n"
          ]
        }
      ]
    },
    {
      "cell_type": "code",
      "source": [
        "plt.figure(figsize=(15,5))\n",
        "sns.barplot(x=datewise.index.date,y=datewise[\"Confirmed\"])\n",
        "plt.title(\"Distributions plot for Active Cases\")\n",
        "plt.xticks(rotation=90)"
      ],
      "metadata": {
        "colab": {
          "base_uri": "https://localhost:8080/",
          "height": 498
        },
        "id": "uiuVGMDv8WSe",
        "outputId": "2befb3ef-c3a1-4b06-f1c0-c43275a54b9f"
      },
      "execution_count": null,
      "outputs": [
        {
          "output_type": "execute_result",
          "data": {
            "text/plain": [
              "(array([ 0,  1,  2,  3,  4,  5,  6,  7,  8,  9, 10, 11, 12, 13, 14, 15, 16,\n",
              "        17, 18, 19, 20, 21, 22, 23, 24, 25, 26, 27, 28, 29, 30, 31, 32, 33,\n",
              "        34, 35, 36, 37, 38, 39, 40, 41, 42, 43, 44, 45, 46, 47, 48, 49, 50,\n",
              "        51, 52, 53, 54, 55, 56, 57, 58, 59, 60, 61, 62, 63, 64, 65, 66, 67,\n",
              "        68, 69, 70, 71, 72, 73, 74, 75, 76, 77, 78, 79, 80, 81, 82, 83, 84,\n",
              "        85, 86, 87, 88, 89, 90, 91, 92, 93]),\n",
              " <a list of 94 Text major ticklabel objects>)"
            ]
          },
          "metadata": {},
          "execution_count": 53
        },
        {
          "output_type": "display_data",
          "data": {
            "image/png": "[encoded data removed]",
            "text/plain": [
              "<Figure size 1080x360 with 1 Axes>"
            ]
          },
          "metadata": {
            "needs_background": "light"
          }
        }
      ]
    },
    {
      "cell_type": "code",
      "source": [
        "plt.figure(figsize=(15,5))\n",
        "sns.barplot(x=datewise.index.date,y=datewise[\"Confirmed\"]-datewise[\"Recovered\"]-datewise[\"Deaths\"])\n",
        "plt.title(\"Distributions plot for Active Cases\")\n",
        "plt.xticks(rotation=90)"
      ],
      "metadata": {
        "colab": {
          "base_uri": "https://localhost:8080/",
          "height": 498
        },
        "id": "5tWl_EDOtr-3",
        "outputId": "c2a87339-5c63-4ce6-e3ba-60a438a87fe8"
      },
      "execution_count": null,
      "outputs": [
        {
          "output_type": "execute_result",
          "data": {
            "text/plain": [
              "(array([ 0,  1,  2,  3,  4,  5,  6,  7,  8,  9, 10, 11, 12, 13, 14, 15, 16,\n",
              "        17, 18, 19, 20, 21, 22, 23, 24, 25, 26, 27, 28, 29, 30, 31, 32, 33,\n",
              "        34, 35, 36, 37, 38, 39, 40, 41, 42, 43, 44, 45, 46, 47, 48, 49, 50,\n",
              "        51, 52, 53, 54, 55, 56, 57, 58, 59, 60, 61, 62, 63, 64, 65, 66, 67,\n",
              "        68, 69, 70, 71, 72, 73, 74, 75, 76, 77, 78, 79, 80, 81, 82, 83, 84,\n",
              "        85, 86, 87, 88, 89, 90, 91, 92, 93]),\n",
              " <a list of 94 Text major ticklabel objects>)"
            ]
          },
          "metadata": {},
          "execution_count": 52
        },
        {
          "output_type": "display_data",
          "data": {
            "image/png": "[encoded data removed]",
            "text/plain": [
              "<Figure size 1080x360 with 1 Axes>"
            ]
          },
          "metadata": {
            "needs_background": "light"
          }
        }
      ]
    },
    {
      "cell_type": "code",
      "source": [
        "plt.figure(figsize=(15,5))\n",
        "sns.barplot(x=datewise.index.date,y=datewise[\"Recovered\"]+datewise[\"Deaths\"])\n",
        "plt.title(\"Distribution plot for Closed Cases\")\n",
        "plt.xticks(rotation=90)"
      ],
      "metadata": {
        "colab": {
          "base_uri": "https://localhost:8080/",
          "height": 506
        },
        "id": "TQSbL_wAtvA3",
        "outputId": "30f41898-de16-4da1-e2b7-45c0ebcc1241"
      },
      "execution_count": null,
      "outputs": [
        {
          "output_type": "execute_result",
          "data": {
            "text/plain": [
              "(array([ 0,  1,  2,  3,  4,  5,  6,  7,  8,  9, 10, 11, 12, 13, 14, 15, 16,\n",
              "        17, 18, 19, 20, 21, 22, 23, 24, 25, 26, 27, 28, 29, 30, 31, 32, 33,\n",
              "        34, 35, 36, 37, 38, 39, 40, 41, 42, 43, 44, 45, 46, 47, 48, 49, 50,\n",
              "        51, 52, 53, 54, 55, 56, 57, 58, 59, 60, 61, 62, 63, 64, 65, 66, 67,\n",
              "        68, 69, 70, 71, 72, 73, 74, 75, 76, 77, 78, 79, 80, 81, 82, 83, 84,\n",
              "        85, 86, 87, 88, 89, 90, 91, 92, 93]),\n",
              " <a list of 94 Text major ticklabel objects>)"
            ]
          },
          "metadata": {},
          "execution_count": 10
        },
        {
          "output_type": "display_data",
          "data": {
            "image/png": "[encoded data removed]",
            "text/plain": [
              "<Figure size 1080x360 with 1 Axes>"
            ]
          },
          "metadata": {
            "needs_background": "light"
          }
        }
      ]
    },
    {
      "cell_type": "code",
      "source": [
        "\n",
        "datewise[\"WeekofYear\"] = datewise.index.weekofyear\n",
        "week_num = []\n",
        "weekwise_confirmed = []\n",
        "weekwise_recovered = []\n",
        "weekwise_deaths = []\n",
        "w = 1\n",
        "for i in list(datewise[\"WeekofYear\"].unique()):\n",
        "    weekwise_confirmed.append(datewise[datewise[\"WeekofYear\"]==i][\"Confirmed\"].iloc[-1])\n",
        "    weekwise_recovered.append(datewise[datewise[\"WeekofYear\"]==i][\"Recovered\"].iloc[-1])\n",
        "    weekwise_deaths.append(datewise[datewise[\"WeekofYear\"]==i][\"Deaths\"].iloc[-1])\n",
        "    week_num.append(w)\n",
        "    w=w+1\n",
        "plt.figure(figsize=(8,5))\n",
        "plt.plot(week_num,weekwise_confirmed,linewidth=3)\n",
        "plt.plot(week_num,weekwise_recovered,linewidth =3)\n",
        "plt.plot(week_num,weekwise_deaths,linewidth = 6)\n",
        "plt.xlabel(\"WeekNumber\")\n",
        "plt.ylabel(\"Number of cases\")\n",
        "plt.title(\"Weekly Progress of different types of cases\")"
      ],
      "metadata": {
        "colab": {
          "base_uri": "https://localhost:8080/",
          "height": 242
        },
        "id": "cMNtK_dpt0HN",
        "outputId": "ff402fc8-51b9-4aa4-de85-c50e58567271"
      },
      "execution_count": null,
      "outputs": [
        {
          "output_type": "error",
          "ename": "NameError",
          "evalue": "ignored",
          "traceback": [
            "\u001b[0;31m---------------------------------------------------------------------------\u001b[0m",
            "\u001b[0;31mNameError\u001b[0m                                 Traceback (most recent call last)",
            "\u001b[0;32m<ipython-input-1-a2db76cfe2b2>\u001b[0m in \u001b[0;36m<module>\u001b[0;34m()\u001b[0m\n\u001b[1;32m      1\u001b[0m \u001b[0;34m\u001b[0m\u001b[0m\n\u001b[0;32m----> 2\u001b[0;31m \u001b[0mdatewise\u001b[0m\u001b[0;34m[\u001b[0m\u001b[0;34m\"WeekofYear\"\u001b[0m\u001b[0;34m]\u001b[0m \u001b[0;34m=\u001b[0m \u001b[0mdatewise\u001b[0m\u001b[0;34m.\u001b[0m\u001b[0mindex\u001b[0m\u001b[0;34m.\u001b[0m\u001b[0mweekofyear\u001b[0m\u001b[0;34m\u001b[0m\u001b[0;34m\u001b[0m\u001b[0m\n\u001b[0m\u001b[1;32m      3\u001b[0m \u001b[0mweek_num\u001b[0m \u001b[0;34m=\u001b[0m \u001b[0;34m[\u001b[0m\u001b[0;34m]\u001b[0m\u001b[0;34m\u001b[0m\u001b[0;34m\u001b[0m\u001b[0m\n\u001b[1;32m      4\u001b[0m \u001b[0mweekwise_confirmed\u001b[0m \u001b[0;34m=\u001b[0m \u001b[0;34m[\u001b[0m\u001b[0;34m]\u001b[0m\u001b[0;34m\u001b[0m\u001b[0;34m\u001b[0m\u001b[0m\n\u001b[1;32m      5\u001b[0m \u001b[0mweekwise_recovered\u001b[0m \u001b[0;34m=\u001b[0m \u001b[0;34m[\u001b[0m\u001b[0;34m]\u001b[0m\u001b[0;34m\u001b[0m\u001b[0;34m\u001b[0m\u001b[0m\n",
            "\u001b[0;31mNameError\u001b[0m: name 'datewise' is not defined"
          ]
        }
      ]
    },
    {
      "cell_type": "code",
      "source": [
        "fig,(ax1,ax2) = plt.subplots(1,2,figsize=(12,4))\n",
        "sns.barplot(x= week_num,y=pd.Series(weekwise_confirmed).diff().fillna(0),ax=ax1)\n",
        "sns.barplot(x= week_num,y=pd.Series(weekwise_deaths).diff().fillna(0),ax=ax2)\n",
        "ax1.set_xlabel(\"Week Number\")\n",
        "ax2.set_xlabel(\"Week Number\")\n",
        "ax1.set_ylabel(\"Numberof Confirmed cases\")\n",
        "ax2.set_ylabel(\"Numberof Death cases\")\n",
        "ax1.set_title(\"Weekly increase in number of Confirmed cases\")\n",
        "ax2.set_title(\"Weekly increase in number of Death Cases\")\n",
        "plt.show()"
      ],
      "metadata": {
        "colab": {
          "base_uri": "https://localhost:8080/",
          "height": 295
        },
        "id": "YksAq4Wtt2mP",
        "outputId": "fe42e990-8da3-4ae0-e2d9-57580bcf7ade"
      },
      "execution_count": null,
      "outputs": [
        {
          "output_type": "display_data",
          "data": {
            "image/png": "[encoded data removed]",
            "text/plain": [
              "<Figure size 864x288 with 2 Axes>"
            ]
          },
          "metadata": {
            "needs_background": "light"
          }
        }
      ]
    },
    {
      "cell_type": "code",
      "source": [
        "print(\"Average increase in number of Confirmed cases everyday:\",np.round(datewise[\"Confirmed\"].diff().fillna(0).mean()))\n",
        "print(\"Average increase in number of Recovered cases everyday:\",np.round(datewise[\"Recovered\"].diff().fillna(0).mean()))\n",
        "print(\"Average increase in number of Death cases everyday:\",np.round(datewise[\"Deaths\"].diff().fillna(0).mean()))\n",
        "\n",
        "plt.figure(figsize=(15,6))\n",
        "plt.plot(datewise[\"Confirmed\"].diff().fillna(0),label=\"Daily increase in confirmed cases\",linewidth=3)\n",
        "plt.plot(datewise[\"Recovered\"].diff().fillna(0),label=\"Daily increase in recovered cases\",linewidth=3)\n",
        "plt.plot(datewise[\"Deaths\"].diff().fillna(0),label=\"Daily increase in death cases\",linewidth=3)\n",
        "plt.xlabel(\"Timestamp\")\n",
        "plt.ylabel(\"Daily increase\")\n",
        "plt.title(\"Daily increase\")\n",
        "plt.legend()\n",
        "plt.xticks(rotation=90)\n",
        "plt.show()"
      ],
      "metadata": {
        "colab": {
          "base_uri": "https://localhost:8080/",
          "height": 504
        },
        "id": "9pqN2ma-t6Jm",
        "outputId": "9247b12b-267d-49ef-bdad-a70f658f440c"
      },
      "execution_count": null,
      "outputs": [
        {
          "output_type": "stream",
          "name": "stdout",
          "text": [
            "Average increase in number of Confirmed cases everyday: 29900.0\n",
            "Average increase in number of Recovered cases everyday: 8442.0\n",
            "Average increase in number of Death cases everyday: 2097.0\n"
          ]
        },
        {
          "output_type": "display_data",
          "data": {
            "image/png": "[encoded data removed]",
            "text/plain": [
              "<Figure size 1080x432 with 1 Axes>"
            ]
          },
          "metadata": {
            "needs_background": "light"
          }
        }
      ]
    },
    {
      "cell_type": "code",
      "source": [
        "#Country wise analysis\n",
        "#Calculating Country wise Mortality rate\n",
        "countrywise= covid[covid[\"ObservationDate\"]==covid[\"ObservationDate\"].max()].groupby([\"Country/Region\"]).agg({\"Confirmed\":\"sum\",\"Recovered\":\"sum\",\"Deaths\":\"sum\"}).sort_values([\"Confirmed\"],ascending=False)\n",
        "countrywise[\"Mortality\"]=(countrywise[\"Deaths\"]/countrywise[\"Recovered\"])*100\n",
        "countrywise[\"Recovered\"]=(countrywise[\"Recovered\"]/countrywise[\"Confirmed\"])*100"
      ],
      "metadata": {
        "id": "i5TgODDyt-f1"
      },
      "execution_count": null,
      "outputs": []
    },
    {
      "cell_type": "code",
      "source": [
        "fig,(ax1,ax2)=plt.subplots(1,2,figsize=(25,10))\n",
        "top_15confirmed = countrywise.sort_values([\"Confirmed\"],ascending=False).head(15)\n",
        "top_15deaths = countrywise.sort_values([\"Deaths\"],ascending=False).head(15)\n",
        "sns.barplot(x=top_15confirmed[\"Confirmed\"],y=top_15confirmed.index,ax=ax1)\n",
        "ax1.set_title(\"Top 15 countries as per number of confirmed cases\")\n",
        "sns.barplot(x=top_15deaths[\"Deaths\"],y=top_15deaths.index,ax=ax2)\n",
        "ax1.set_title(\"Top 15 countries as per number of death cases\")"
      ],
      "metadata": {
        "colab": {
          "base_uri": "https://localhost:8080/",
          "height": 658
        },
        "id": "ExV7nC8huAvO",
        "outputId": "820c35f2-a792-4550-b6c4-7c067eca48d1"
      },
      "execution_count": null,
      "outputs": [
        {
          "output_type": "execute_result",
          "data": {
            "text/plain": [
              "Text(0.5, 1.0, 'Top 15 countries as per number of death cases')"
            ]
          },
          "metadata": {},
          "execution_count": 15
        },
        {
          "output_type": "display_data",
          "data": {
            "image/png": "[encoded data removed]",
            "text/plain": [
              "<Figure size 1800x720 with 2 Axes>"
            ]
          },
          "metadata": {
            "needs_background": "light"
          }
        }
      ]
    },
    {
      "cell_type": "markdown",
      "source": [
        "## **Data Anlaysis for India**"
      ],
      "metadata": {
        "id": "AkW4i6KbuF5H"
      }
    },
    {
      "cell_type": "code",
      "source": [
        "#Data Anlaysis for India\n",
        "india_data = covid[covid[\"Country/Region\"]==\"India\"]\n",
        "datewise_india = india_data.groupby([\"ObservationDate\"]).agg({\"Confirmed\":\"sum\",\"Recovered\":\"sum\",\"Deaths\":\"sum\"})\n",
        "print(datewise_india.iloc[-1])\n",
        "print(\"Total Active Cases\",datewise_india[\"Confirmed\"].iloc[-1]-datewise_india[\"Recovered\"].iloc[-1]-datewise_india[\"Deaths\"].iloc[-1])\n",
        "print(\"Total Closed Cases\",datewise_india[\"Recovered\"].iloc[-1]+datewise_india[\"Deaths\"].iloc[-1])"
      ],
      "metadata": {
        "colab": {
          "base_uri": "https://localhost:8080/"
        },
        "id": "0p6O7Q33uC5D",
        "outputId": "15577dc4-7208-4768-b9b5-1638ac23d27b"
      },
      "execution_count": null,
      "outputs": [
        {
          "output_type": "stream",
          "name": "stdout",
          "text": [
            "Confirmed    24530.0\n",
            "Recovered     5498.0\n",
            "Deaths         780.0\n",
            "Name: 2020-04-24 00:00:00, dtype: float64\n",
            "Total Active Cases 18252.0\n",
            "Total Closed Cases 6278.0\n"
          ]
        }
      ]
    },
    {
      "cell_type": "markdown",
      "source": [
        "## **#Data Anlaysis for US**"
      ],
      "metadata": {
        "id": "ctW0eGk-uWjm"
      }
    },
    {
      "cell_type": "code",
      "source": [
        "#Data Anlaysis for US\n",
        "us_data = covid[covid[\"Country/Region\"]==\"US\"]\n",
        "datewise_us = us_data.groupby([\"ObservationDate\"]).agg({\"Confirmed\":\"sum\",\"Recovered\":\"sum\",\"Deaths\":\"sum\"})\n",
        "print(datewise_us.iloc[-1])\n",
        "print(\"Total Active Cases\",datewise_us[\"Confirmed\"].iloc[-1]-datewise_us[\"Recovered\"].iloc[-1]-datewise_us[\"Deaths\"].iloc[-1])\n",
        "print(\"Total Closed Cases\",datewise_us[\"Recovered\"].iloc[-1]+datewise_us[\"Deaths\"].iloc[-1])"
      ],
      "metadata": {
        "colab": {
          "base_uri": "https://localhost:8080/"
        },
        "id": "oSpt44ysuKPd",
        "outputId": "0d8ad247-723e-4752-bd7b-718d2b06773d"
      },
      "execution_count": null,
      "outputs": [
        {
          "output_type": "stream",
          "name": "stdout",
          "text": [
            "Confirmed    905333.0\n",
            "Recovered     99079.0\n",
            "Deaths        51949.0\n",
            "Name: 2020-04-24 00:00:00, dtype: float64\n",
            "Total Active Cases 754305.0\n",
            "Total Closed Cases 151028.0\n"
          ]
        }
      ]
    },
    {
      "cell_type": "code",
      "source": [
        "datewise_india[\"WeekofYear\"] = datewise_india.index.weekofyear\n",
        "week_num_india = []\n",
        "india_weekwise_confirmed = []\n",
        "india_weekwise_recovered = []\n",
        "india_weekwise_deaths = []\n",
        "w = 1\n",
        "for i in list(datewise_india[\"WeekofYear\"].unique()):\n",
        "    india_weekwise_confirmed.append(datewise_india[datewise_india[\"WeekofYear\"]==i][\"Confirmed\"].iloc[-1])\n",
        "    india_weekwise_recovered.append(datewise_india[datewise_india[\"WeekofYear\"]==i][\"Recovered\"].iloc[-1])\n",
        "    india_weekwise_deaths.append(datewise_india[datewise_india[\"WeekofYear\"]==i][\"Deaths\"].iloc[-1])\n",
        "    week_num_india.append(w)\n",
        "    w=w+1\n",
        "plt.figure(figsize=(8,5))\n",
        "plt.plot(week_num_india,india_weekwise_confirmed,linewidth=3)\n",
        "plt.plot(week_num_india,india_weekwise_recovered,linewidth =3)\n",
        "plt.plot(week_num_india,india_weekwise_deaths,linewidth = 3)\n",
        "plt.xlabel(\"WeekNumber\")\n",
        "plt.ylabel(\"Number of cases\")\n",
        "plt.title(\"Weekly Progress of different types of cases\")"
      ],
      "metadata": {
        "colab": {
          "base_uri": "https://localhost:8080/",
          "height": 422
        },
        "id": "62CJEFrHuYg0",
        "outputId": "587f31eb-0ca1-4ec6-b3b5-1078749b33bd"
      },
      "execution_count": null,
      "outputs": [
        {
          "output_type": "stream",
          "name": "stderr",
          "text": [
            "/usr/local/lib/python3.7/dist-packages/ipykernel_launcher.py:1: FutureWarning: weekofyear and week have been deprecated, please use DatetimeIndex.isocalendar().week instead, which returns a Series.  To exactly reproduce the behavior of week and weekofyear and return an Index, you may call pd.Int64Index(idx.isocalendar().week)\n",
            "  \"\"\"Entry point for launching an IPython kernel.\n"
          ]
        },
        {
          "output_type": "execute_result",
          "data": {
            "text/plain": [
              "Text(0.5, 1.0, 'Weekly Progress of different types of cases')"
            ]
          },
          "metadata": {},
          "execution_count": 18
        },
        {
          "output_type": "display_data",
          "data": {
            "image/png": "[encoded data removed]",
            "text/plain": [
              "<Figure size 576x360 with 1 Axes>"
            ]
          },
          "metadata": {
            "needs_background": "light"
          }
        }
      ]
    },
    {
      "cell_type": "code",
      "source": [
        "max_ind = datewise_india[\"Confirmed\"].max()\n",
        "china_data = covid[covid[\"Country/Region\"]==\"Mainland China\"]\n",
        "Italy_data = covid[covid[\"Country/Region\"]==\"Italy\"]\n",
        "US_data = covid[covid[\"Country/Region\"]==\"US\"]\n",
        "spain_data = covid[covid[\"Country/Region\"]==\"Spain\"]\n",
        "datewise_china = china_data.groupby([\"ObservationDate\"]).agg({\"Confirmed\":\"sum\",\"Recovered\":\"sum\",\"Deaths\":\"sum\"})\n",
        "datewise_Italy = Italy_data.groupby([\"ObservationDate\"]).agg({\"Confirmed\":\"sum\",\"Recovered\":\"sum\",\"Deaths\":\"sum\"})\n",
        "datewise_US=US_data.groupby([\"ObservationDate\"]).agg({\"Confirmed\":\"sum\",\"Recovered\":\"sum\",\"Deaths\":\"sum\"})\n",
        "datewise_Spain=spain_data.groupby([\"ObservationDate\"]).agg({\"Confirmed\":\"sum\",\"Recovered\":\"sum\",\"Deaths\":\"sum\"})\n",
        "print(\"It took\",datewise_india[datewise_india[\"Confirmed\"]>0].shape[0],\"days in India to reach\",max_ind,\"Confirmed Cases\")\n",
        "print(\"It took\",datewise_Italy[(datewise_Italy[\"Confirmed\"]>0)&(datewise_Italy[\"Confirmed\"]<=max_ind)].shape[0],\"days in Italy to reach number of Confirmed Cases\")\n",
        "print(\"It took\",datewise_US[(datewise_US[\"Confirmed\"]>0)&(datewise_US[\"Confirmed\"]<=max_ind)].shape[0],\"days in US to reach number of Confirmed Cases\")\n",
        "print(\"It took\",datewise_Spain[(datewise_Spain[\"Confirmed\"]>0)&(datewise_Spain[\"Confirmed\"]<=max_ind)].shape[0],\"days in Spain to reach number of Confirmed Cases\")\n",
        "print(\"It took\",datewise_china[(datewise_china[\"Confirmed\"]>0)&(datewise_china[\"Confirmed\"]<=max_ind)].shape[0],\"days in China to reach number of Confirmed Cases\")"
      ],
      "metadata": {
        "colab": {
          "base_uri": "https://localhost:8080/"
        },
        "id": "lsmHKYQhucCg",
        "outputId": "055d2396-5709-42c3-c21b-24e6474b681c"
      },
      "execution_count": null,
      "outputs": [
        {
          "output_type": "stream",
          "name": "stdout",
          "text": [
            "It took 86 days in India to reach 24530.0 Confirmed Cases\n",
            "It took 44 days in Italy to reach number of Confirmed Cases\n",
            "It took 59 days in US to reach number of Confirmed Cases\n",
            "It took 49 days in Spain to reach number of Confirmed Cases\n",
            "It took 14 days in China to reach number of Confirmed Cases\n"
          ]
        }
      ]
    },
    {
      "cell_type": "code",
      "source": [
        "datewise[\"Days Since\"]=datewise.index-datewise.index[0]\n",
        "datewise[\"Days Since\"] = datewise[\"Days Since\"].dt.days\n",
        "train_ml = datewise.iloc[:int(datewise.shape[0]*0.95)]\n",
        "valid_ml = datewise.iloc[:int(datewise.shape[0]*0.95):]\n",
        "model_scores=[]"
      ],
      "metadata": {
        "id": "Fh1yQG7auefa"
      },
      "execution_count": null,
      "outputs": []
    },
    {
      "cell_type": "code",
      "source": [
        "lin_reg = LinearRegression(normalize=True)\n",
        "svm = SVR(C=1,degree=5,kernel='poly',epsilon=0.001)\n",
        "lin_reg.fit(np.array(train_ml[\"Days Since\"]).reshape(-1,1),np.array(train_ml[\"Confirmed\"]).reshape(-1,1))\n",
        "svm.fit(np.array(train_ml[\"Days Since\"]).reshape(-1,1),np.array(train_ml[\"Confirmed\"]).reshape(-1,1))"
      ],
      "metadata": {
        "colab": {
          "base_uri": "https://localhost:8080/"
        },
        "id": "ppV_x3e6ui3J",
        "outputId": "b525392a-f60c-44d6-ae41-cb19ae6e3a3f"
      },
      "execution_count": null,
      "outputs": [
        {
          "output_type": "stream",
          "name": "stderr",
          "text": [
            "/usr/local/lib/python3.7/dist-packages/sklearn/linear_model/_base.py:145: FutureWarning: 'normalize' was deprecated in version 1.0 and will be removed in 1.2.\n",
            "If you wish to scale the data, use Pipeline with a StandardScaler in a preprocessing stage. To reproduce the previous behavior:\n",
            "\n",
            "from sklearn.pipeline import make_pipeline\n",
            "\n",
            "model = make_pipeline(StandardScaler(with_mean=False), LinearRegression())\n",
            "\n",
            "If you wish to pass a sample_weight parameter, you need to pass it as a fit parameter to each step of the pipeline as follows:\n",
            "\n",
            "kwargs = {s[0] + '__sample_weight': sample_weight for s in model.steps}\n",
            "model.fit(X, y, **kwargs)\n",
            "\n",
            "\n",
            "  FutureWarning,\n",
            "/usr/local/lib/python3.7/dist-packages/sklearn/utils/validation.py:985: DataConversionWarning: A column-vector y was passed when a 1d array was expected. Please change the shape of y to (n_samples, ), for example using ravel().\n",
            "  y = column_or_1d(y, warn=True)\n"
          ]
        },
        {
          "output_type": "execute_result",
          "data": {
            "text/plain": [
              "SVR(C=1, degree=5, epsilon=0.001, kernel='poly')"
            ]
          },
          "metadata": {},
          "execution_count": 28
        }
      ]
    },
    {
      "cell_type": "code",
      "source": [
        "prediction_valid_lin_reg = lin_reg.predict(np.array(valid_ml[\"Days Since\"]).reshape(-1,1))\n",
        "prediction_valid_svm = svm.predict(np.array(valid_ml[\"Days Since\"]).reshape(-1,1))"
      ],
      "metadata": {
        "id": "uGB607oGuoB0"
      },
      "execution_count": null,
      "outputs": []
    },
    {
      "cell_type": "code",
      "source": [
        "new_date = []\n",
        "new_prediction_lr=[]\n",
        "new_prediction_svm=[]\n",
        "for i in range(1,18):\n",
        "  new_date.append(datewise.index[-1]+timedelta(days=i))\n",
        "  new_prediction_lr.append(lin_reg.predict(np.array(datewise[\"Days Since\"].max()+i).reshape(-1,1))[0][0])\n",
        "  new_prediction_svm.append(svm.predict(np.array(datewise[\"Days Since\"].max()+i).reshape(-1,1))[0])\n",
        "pd.set_option(\"display.float_format\",lambda x: '%.f' % x)\n",
        "model_predictions=pd.DataFrame(zip(new_date,new_prediction_lr,new_prediction_svm),columns = [\"Dates\",\"LR\",\"SVR\"])\n",
        "model_predictions.head(100)"
      ],
      "metadata": {
        "colab": {
          "base_uri": "https://localhost:8080/",
          "height": 582
        },
        "id": "d_ccRisQux42",
        "outputId": "19698f4a-e6b7-4619-f013-3e08434e00c0"
      },
      "execution_count": null,
      "outputs": [
        {
          "output_type": "execute_result",
          "data": {
            "text/html": [
              "\n",
              "  <div id=\"df-5bfb7d69-cbf9-41d4-84c2-79041bac4747\">\n",
              "    <div class=\"colab-df-container\">\n",
              "      <div>\n",
              "<style scoped>\n",
              "    .dataframe tbody tr th:only-of-type {\n",
              "        vertical-align: middle;\n",
              "    }\n",
              "\n",
              "    .dataframe tbody tr th {\n",
              "        vertical-align: top;\n",
              "    }\n",
              "\n",
              "    .dataframe thead th {\n",
              "        text-align: right;\n",
              "    }\n",
              "</style>\n",
              "<table border=\"1\" class=\"dataframe\">\n",
              "  <thead>\n",
              "    <tr style=\"text-align: right;\">\n",
              "      <th></th>\n",
              "      <th>Dates</th>\n",
              "      <th>LR</th>\n",
              "      <th>SVR</th>\n",
              "    </tr>\n",
              "  </thead>\n",
              "  <tbody>\n",
              "    <tr>\n",
              "      <th>0</th>\n",
              "      <td>2020-04-25</td>\n",
              "      <td>1560529</td>\n",
              "      <td>3322586</td>\n",
              "    </tr>\n",
              "    <tr>\n",
              "      <th>1</th>\n",
              "      <td>2020-04-26</td>\n",
              "      <td>1582219</td>\n",
              "      <td>3500761</td>\n",
              "    </tr>\n",
              "    <tr>\n",
              "      <th>2</th>\n",
              "      <td>2020-04-27</td>\n",
              "      <td>1603909</td>\n",
              "      <td>3686599</td>\n",
              "    </tr>\n",
              "    <tr>\n",
              "      <th>3</th>\n",
              "      <td>2020-04-28</td>\n",
              "      <td>1625599</td>\n",
              "      <td>3880344</td>\n",
              "    </tr>\n",
              "    <tr>\n",
              "      <th>4</th>\n",
              "      <td>2020-04-29</td>\n",
              "      <td>1647289</td>\n",
              "      <td>4082245</td>\n",
              "    </tr>\n",
              "    <tr>\n",
              "      <th>5</th>\n",
              "      <td>2020-04-30</td>\n",
              "      <td>1668980</td>\n",
              "      <td>4292557</td>\n",
              "    </tr>\n",
              "    <tr>\n",
              "      <th>6</th>\n",
              "      <td>2020-05-01</td>\n",
              "      <td>1690670</td>\n",
              "      <td>4511540</td>\n",
              "    </tr>\n",
              "    <tr>\n",
              "      <th>7</th>\n",
              "      <td>2020-05-02</td>\n",
              "      <td>1712360</td>\n",
              "      <td>4739461</td>\n",
              "    </tr>\n",
              "    <tr>\n",
              "      <th>8</th>\n",
              "      <td>2020-05-03</td>\n",
              "      <td>1734050</td>\n",
              "      <td>4976588</td>\n",
              "    </tr>\n",
              "    <tr>\n",
              "      <th>9</th>\n",
              "      <td>2020-05-04</td>\n",
              "      <td>1755740</td>\n",
              "      <td>5223200</td>\n",
              "    </tr>\n",
              "    <tr>\n",
              "      <th>10</th>\n",
              "      <td>2020-05-05</td>\n",
              "      <td>1777431</td>\n",
              "      <td>5479577</td>\n",
              "    </tr>\n",
              "    <tr>\n",
              "      <th>11</th>\n",
              "      <td>2020-05-06</td>\n",
              "      <td>1799121</td>\n",
              "      <td>5746006</td>\n",
              "    </tr>\n",
              "    <tr>\n",
              "      <th>12</th>\n",
              "      <td>2020-05-07</td>\n",
              "      <td>1820811</td>\n",
              "      <td>6022781</td>\n",
              "    </tr>\n",
              "    <tr>\n",
              "      <th>13</th>\n",
              "      <td>2020-05-08</td>\n",
              "      <td>1842501</td>\n",
              "      <td>6310199</td>\n",
              "    </tr>\n",
              "    <tr>\n",
              "      <th>14</th>\n",
              "      <td>2020-05-09</td>\n",
              "      <td>1864191</td>\n",
              "      <td>6608566</td>\n",
              "    </tr>\n",
              "    <tr>\n",
              "      <th>15</th>\n",
              "      <td>2020-05-10</td>\n",
              "      <td>1885882</td>\n",
              "      <td>6918189</td>\n",
              "    </tr>\n",
              "    <tr>\n",
              "      <th>16</th>\n",
              "      <td>2020-05-11</td>\n",
              "      <td>1907572</td>\n",
              "      <td>7239387</td>\n",
              "    </tr>\n",
              "  </tbody>\n",
              "</table>\n",
              "</div>\n",
              "      <button class=\"colab-df-convert\" onclick=\"convertToInteractive('df-5bfb7d69-cbf9-41d4-84c2-79041bac4747')\"\n",
              "              title=\"Convert this dataframe to an interactive table.\"\n",
              "              style=\"display:none;\">\n",
              "        \n",
              "  <svg xmlns=\"http://www.w3.org/2000/svg\" height=\"24px\"viewBox=\"0 0 24 24\"\n",
              "       width=\"24px\">\n",
              "    <path d=\"M0 0h24v24H0V0z\" fill=\"none\"/>\n",
              "    <path d=\"M18.56 5.44l.94 2.06.94-2.06 2.06-.94-2.06-.94-.94-2.06-.94 2.06-2.06.94zm-11 1L8.5 8.5l.94-2.06 2.06-.94-2.06-.94L8.5 2.5l-.94 2.06-2.06.94zm10 10l.94 2.06.94-2.06 2.06-.94-2.06-.94-.94-2.06-.94 2.06-2.06.94z\"/><path d=\"M17.41 7.96l-1.37-1.37c-.4-.4-.92-.59-1.43-.59-.52 0-1.04.2-1.43.59L10.3 9.45l-7.72 7.72c-.78.78-.78 2.05 0 2.83L4 21.41c.39.39.9.59 1.41.59.51 0 1.02-.2 1.41-.59l7.78-7.78 2.81-2.81c.8-.78.8-2.07 0-2.86zM5.41 20L4 18.59l7.72-7.72 1.47 1.35L5.41 20z\"/>\n",
              "  </svg>\n",
              "      </button>\n",
              "      \n",
              "  <style>\n",
              "    .colab-df-container {\n",
              "      display:flex;\n",
              "      flex-wrap:wrap;\n",
              "      gap: 12px;\n",
              "    }\n",
              "\n",
              "    .colab-df-convert {\n",
              "      background-color: #E8F0FE;\n",
              "      border: none;\n",
              "      border-radius: 50%;\n",
              "      cursor: pointer;\n",
              "      display: none;\n",
              "      fill: #1967D2;\n",
              "      height: 32px;\n",
              "      padding: 0 0 0 0;\n",
              "      width: 32px;\n",
              "    }\n",
              "\n",
              "    .colab-df-convert:hover {\n",
              "      background-color: #E2EBFA;\n",
              "      box-shadow: 0px 1px 2px rgba(60, 64, 67, 0.3), 0px 1px 3px 1px rgba(60, 64, 67, 0.15);\n",
              "      fill: #174EA6;\n",
              "    }\n",
              "\n",
              "    [theme=dark] .colab-df-convert {\n",
              "      background-color: #3B4455;\n",
              "      fill: #D2E3FC;\n",
              "    }\n",
              "\n",
              "    [theme=dark] .colab-df-convert:hover {\n",
              "      background-color: #434B5C;\n",
              "      box-shadow: 0px 1px 3px 1px rgba(0, 0, 0, 0.15);\n",
              "      filter: drop-shadow(0px 1px 2px rgba(0, 0, 0, 0.3));\n",
              "      fill: #FFFFFF;\n",
              "    }\n",
              "  </style>\n",
              "\n",
              "      <script>\n",
              "        const buttonEl =\n",
              "          document.querySelector('#df-5bfb7d69-cbf9-41d4-84c2-79041bac4747 button.colab-df-convert');\n",
              "        buttonEl.style.display =\n",
              "          google.colab.kernel.accessAllowed ? 'block' : 'none';\n",
              "\n",
              "        async function convertToInteractive(key) {\n",
              "          const element = document.querySelector('#df-5bfb7d69-cbf9-41d4-84c2-79041bac4747');\n",
              "          const dataTable =\n",
              "            await google.colab.kernel.invokeFunction('convertToInteractive',\n",
              "                                                     [key], {});\n",
              "          if (!dataTable) return;\n",
              "\n",
              "          const docLinkHtml = 'Like what you see? Visit the ' +\n",
              "            '<a target=\"_blank\" href=https://colab.research.google.com/notebooks/data_table.ipynb>data table notebook</a>'\n",
              "            + ' to learn more about interactive tables.';\n",
              "          element.innerHTML = '';\n",
              "          dataTable['output_type'] = 'display_data';\n",
              "          await google.colab.output.renderOutput(dataTable, element);\n",
              "          const docLink = document.createElement('div');\n",
              "          docLink.innerHTML = docLinkHtml;\n",
              "          element.appendChild(docLink);\n",
              "        }\n",
              "      </script>\n",
              "    </div>\n",
              "  </div>\n",
              "  "
            ],
            "text/plain": [
              "        Dates      LR     SVR\n",
              "0  2020-04-25 1560529 3322586\n",
              "1  2020-04-26 1582219 3500761\n",
              "2  2020-04-27 1603909 3686599\n",
              "3  2020-04-28 1625599 3880344\n",
              "4  2020-04-29 1647289 4082245\n",
              "5  2020-04-30 1668980 4292557\n",
              "6  2020-05-01 1690670 4511540\n",
              "7  2020-05-02 1712360 4739461\n",
              "8  2020-05-03 1734050 4976588\n",
              "9  2020-05-04 1755740 5223200\n",
              "10 2020-05-05 1777431 5479577\n",
              "11 2020-05-06 1799121 5746006\n",
              "12 2020-05-07 1820811 6022781\n",
              "13 2020-05-08 1842501 6310199\n",
              "14 2020-05-09 1864191 6608566\n",
              "15 2020-05-10 1885882 6918189\n",
              "16 2020-05-11 1907572 7239387"
            ]
          },
          "metadata": {},
          "execution_count": 34
        }
      ]
    },
    {
      "cell_type": "code",
      "source": [
        "model_train=datewise.iloc[:int(datewise.shape[0]*0.85)]\n",
        "valid=datewise.iloc[int(datewise.shape[0]*0.85):]"
      ],
      "metadata": {
        "id": "LU9zuhNMvD30"
      },
      "execution_count": null,
      "outputs": []
    },
    {
      "cell_type": "code",
      "source": [
        "holt=Holt(np.asarray(model_train[\"Confirmed\"])).fit(smoothing_level=1.4,smoothing_slope=0.2)\n",
        "y_pred = valid.copy()\n",
        "y_pred[\"Holt\"]=holt.forecast(len(valid))"
      ],
      "metadata": {
        "id": "OyIVjAEbvFHY"
      },
      "execution_count": null,
      "outputs": []
    },
    {
      "cell_type": "code",
      "source": [
        "holt_new_date=[]\n",
        "holt_new_prediction=[]\n",
        "for i in range(1,18):\n",
        "   holt_new_date.append(datewise.index[-1]+timedelta(days=i))\n",
        "   holt_new_prediction.append(holt.forecast((len(valid)+i))[-1])\n",
        "\n",
        "model_predictions[\"Holts Linear Model Prediction\"]=holt_new_prediction\n",
        "model_predictions.head()"
      ],
      "metadata": {
        "colab": {
          "base_uri": "https://localhost:8080/",
          "height": 206
        },
        "id": "5WuzN7OrvHEE",
        "outputId": "97739fc5-8f5a-4c63-8d6e-53102b02ad1f"
      },
      "execution_count": null,
      "outputs": [
        {
          "output_type": "execute_result",
          "data": {
            "text/html": [
              "\n",
              "  <div id=\"df-bb487ce4-f738-4612-9b02-7aa108298c7a\">\n",
              "    <div class=\"colab-df-container\">\n",
              "      <div>\n",
              "<style scoped>\n",
              "    .dataframe tbody tr th:only-of-type {\n",
              "        vertical-align: middle;\n",
              "    }\n",
              "\n",
              "    .dataframe tbody tr th {\n",
              "        vertical-align: top;\n",
              "    }\n",
              "\n",
              "    .dataframe thead th {\n",
              "        text-align: right;\n",
              "    }\n",
              "</style>\n",
              "<table border=\"1\" class=\"dataframe\">\n",
              "  <thead>\n",
              "    <tr style=\"text-align: right;\">\n",
              "      <th></th>\n",
              "      <th>Dates</th>\n",
              "      <th>LR</th>\n",
              "      <th>SVR</th>\n",
              "      <th>Holts Linear Model Prediction</th>\n",
              "    </tr>\n",
              "  </thead>\n",
              "  <tbody>\n",
              "    <tr>\n",
              "      <th>0</th>\n",
              "      <td>2020-04-25</td>\n",
              "      <td>1560529</td>\n",
              "      <td>3322586</td>\n",
              "      <td>2855246</td>\n",
              "    </tr>\n",
              "    <tr>\n",
              "      <th>1</th>\n",
              "      <td>2020-04-26</td>\n",
              "      <td>1582219</td>\n",
              "      <td>3500761</td>\n",
              "      <td>2933902</td>\n",
              "    </tr>\n",
              "    <tr>\n",
              "      <th>2</th>\n",
              "      <td>2020-04-27</td>\n",
              "      <td>1603909</td>\n",
              "      <td>3686599</td>\n",
              "      <td>3012558</td>\n",
              "    </tr>\n",
              "    <tr>\n",
              "      <th>3</th>\n",
              "      <td>2020-04-28</td>\n",
              "      <td>1625599</td>\n",
              "      <td>3880344</td>\n",
              "      <td>3091214</td>\n",
              "    </tr>\n",
              "    <tr>\n",
              "      <th>4</th>\n",
              "      <td>2020-04-29</td>\n",
              "      <td>1647289</td>\n",
              "      <td>4082245</td>\n",
              "      <td>3169870</td>\n",
              "    </tr>\n",
              "  </tbody>\n",
              "</table>\n",
              "</div>\n",
              "      <button class=\"colab-df-convert\" onclick=\"convertToInteractive('df-bb487ce4-f738-4612-9b02-7aa108298c7a')\"\n",
              "              title=\"Convert this dataframe to an interactive table.\"\n",
              "              style=\"display:none;\">\n",
              "        \n",
              "  <svg xmlns=\"http://www.w3.org/2000/svg\" height=\"24px\"viewBox=\"0 0 24 24\"\n",
              "       width=\"24px\">\n",
              "    <path d=\"M0 0h24v24H0V0z\" fill=\"none\"/>\n",
              "    <path d=\"M18.56 5.44l.94 2.06.94-2.06 2.06-.94-2.06-.94-.94-2.06-.94 2.06-2.06.94zm-11 1L8.5 8.5l.94-2.06 2.06-.94-2.06-.94L8.5 2.5l-.94 2.06-2.06.94zm10 10l.94 2.06.94-2.06 2.06-.94-2.06-.94-.94-2.06-.94 2.06-2.06.94z\"/><path d=\"M17.41 7.96l-1.37-1.37c-.4-.4-.92-.59-1.43-.59-.52 0-1.04.2-1.43.59L10.3 9.45l-7.72 7.72c-.78.78-.78 2.05 0 2.83L4 21.41c.39.39.9.59 1.41.59.51 0 1.02-.2 1.41-.59l7.78-7.78 2.81-2.81c.8-.78.8-2.07 0-2.86zM5.41 20L4 18.59l7.72-7.72 1.47 1.35L5.41 20z\"/>\n",
              "  </svg>\n",
              "      </button>\n",
              "      \n",
              "  <style>\n",
              "    .colab-df-container {\n",
              "      display:flex;\n",
              "      flex-wrap:wrap;\n",
              "      gap: 12px;\n",
              "    }\n",
              "\n",
              "    .colab-df-convert {\n",
              "      background-color: #E8F0FE;\n",
              "      border: none;\n",
              "      border-radius: 50%;\n",
              "      cursor: pointer;\n",
              "      display: none;\n",
              "      fill: #1967D2;\n",
              "      height: 32px;\n",
              "      padding: 0 0 0 0;\n",
              "      width: 32px;\n",
              "    }\n",
              "\n",
              "    .colab-df-convert:hover {\n",
              "      background-color: #E2EBFA;\n",
              "      box-shadow: 0px 1px 2px rgba(60, 64, 67, 0.3), 0px 1px 3px 1px rgba(60, 64, 67, 0.15);\n",
              "      fill: #174EA6;\n",
              "    }\n",
              "\n",
              "    [theme=dark] .colab-df-convert {\n",
              "      background-color: #3B4455;\n",
              "      fill: #D2E3FC;\n",
              "    }\n",
              "\n",
              "    [theme=dark] .colab-df-convert:hover {\n",
              "      background-color: #434B5C;\n",
              "      box-shadow: 0px 1px 3px 1px rgba(0, 0, 0, 0.15);\n",
              "      filter: drop-shadow(0px 1px 2px rgba(0, 0, 0, 0.3));\n",
              "      fill: #FFFFFF;\n",
              "    }\n",
              "  </style>\n",
              "\n",
              "      <script>\n",
              "        const buttonEl =\n",
              "          document.querySelector('#df-bb487ce4-f738-4612-9b02-7aa108298c7a button.colab-df-convert');\n",
              "        buttonEl.style.display =\n",
              "          google.colab.kernel.accessAllowed ? 'block' : 'none';\n",
              "\n",
              "        async function convertToInteractive(key) {\n",
              "          const element = document.querySelector('#df-bb487ce4-f738-4612-9b02-7aa108298c7a');\n",
              "          const dataTable =\n",
              "            await google.colab.kernel.invokeFunction('convertToInteractive',\n",
              "                                                     [key], {});\n",
              "          if (!dataTable) return;\n",
              "\n",
              "          const docLinkHtml = 'Like what you see? Visit the ' +\n",
              "            '<a target=\"_blank\" href=https://colab.research.google.com/notebooks/data_table.ipynb>data table notebook</a>'\n",
              "            + ' to learn more about interactive tables.';\n",
              "          element.innerHTML = '';\n",
              "          dataTable['output_type'] = 'display_data';\n",
              "          await google.colab.output.renderOutput(dataTable, element);\n",
              "          const docLink = document.createElement('div');\n",
              "          docLink.innerHTML = docLinkHtml;\n",
              "          element.appendChild(docLink);\n",
              "        }\n",
              "      </script>\n",
              "    </div>\n",
              "  </div>\n",
              "  "
            ],
            "text/plain": [
              "       Dates      LR     SVR  Holts Linear Model Prediction\n",
              "0 2020-04-25 1560529 3322586                        2855246\n",
              "1 2020-04-26 1582219 3500761                        2933902\n",
              "2 2020-04-27 1603909 3686599                        3012558\n",
              "3 2020-04-28 1625599 3880344                        3091214\n",
              "4 2020-04-29 1647289 4082245                        3169870"
            ]
          },
          "metadata": {},
          "execution_count": 37
        }
      ]
    }
  ]
}